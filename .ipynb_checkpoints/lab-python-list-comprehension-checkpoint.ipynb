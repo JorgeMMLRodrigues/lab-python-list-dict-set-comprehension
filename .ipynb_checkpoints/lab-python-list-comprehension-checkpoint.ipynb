{
 "cells": [
  {
   "cell_type": "markdown",
   "id": "25d7736c-ba17-4aff-b6bb-66eba20fbf4e",
   "metadata": {},
   "source": [
    "# Lab | List, Dict and Set Comprehension"
   ]
  },
  {
   "cell_type": "markdown",
   "id": "7dd3cbde-675a-4b81-92c3-f728846dbe06",
   "metadata": {},
   "source": [
    "## Exercise: Managing Customer Orders Optimized with Comprehension"
   ]
  },
  {
   "cell_type": "markdown",
   "id": "5d500160-2fb7-4777-b5e4-09d45ebaf328",
   "metadata": {},
   "source": [
    "In the previous exercise, you developed a program to manage customer orders and inventory. Now, let's take it a step further and incorporate comprehension into your code.\n",
    "\n",
    "Follow the steps below to complete the exercise:\n",
    "\n",
    "1. Review your code from the previous exercise and identify areas where you can apply comprehension to simplify and streamline your code. \n",
    "\n",
    "    - *Hint: Apply it to initialize inventory, updating the inventory and printing the updated inventory.*\n",
    "    \n",
    "    - For example, in initializing the inventory, we could have:\n",
    "    \n",
    "        ```python\n",
    "        def initialize_inventory(products):\n",
    "            inventory = {product: int(input(f\"Enter the quantity of {product}s available: \")) for product in products}\n",
    "            return inventory\n",
    "\n",
    "        ```\n",
    "<br>\n",
    "    \n",
    "    \n",
    "2. Modify the function get_customer_orders so it prompts the user to enter the number of customer orders and gathers the product names using a loop and user input. Use comprehension.\n",
    "\n",
    "3. Add a new function to calculate the total price of the customer order. For each product in customer_orders, prompt the user to enter the price of that product. Use comprehension to calculate the total price. Note: assume that the user can only have 1 unit of each product.\n",
    "\n",
    "4. Modify the update_inventory function to remove the product from the inventory if its quantity becomes zero after fulfilling the customer orders. Use comprehension to filter out the products with a quantity of zero from the inventory.\n",
    "\n",
    "5. Print the total price of the customer order.\n",
    "\n",
    "Your code should produce output similar to the following:\n",
    "\n",
    "```python\n",
    "Enter the quantity of t-shirts available:  5\n",
    "Enter the quantity of mugs available:  4\n",
    "Enter the quantity of hats available:  3\n",
    "Enter the quantity of books available:  2\n",
    "Enter the quantity of keychains available:  1\n",
    "Enter the number of customer orders:  2\n",
    "Enter the name of a product that a customer wants to order:  hat\n",
    "Enter the name of a product that a customer wants to order:  keychain\n",
    "\n",
    "Order Statistics:\n",
    "Total Products Ordered: 2\n",
    "Percentage of Unique Products Ordered: 40.0\n",
    "\n",
    "Updated Inventory:\n",
    "t-shirt: 5\n",
    "mug: 4\n",
    "hat: 2\n",
    "book: 2\n",
    "Enter the price of keychain:  5\n",
    "Enter the price of hat:  10\n",
    "Total Price: 15.0\n",
    "\n",
    "```\n"
   ]
  },
  {
   "cell_type": "code",
   "execution_count": 188,
   "id": "3725272e-2024-4bcd-be9a-c6d5c6f51a25",
   "metadata": {},
   "outputs": [],
   "source": [
    "def initialize_inventory(products):\n",
    "\n",
    "    inventory = {product: int(input(f\"Enter the quantity of {product}s available: \")) for product in products}\n",
    "    return inventory"
   ]
  },
  {
   "cell_type": "code",
   "execution_count": 190,
   "id": "d412dcde-94dc-40d4-aa8f-2a4212664d52",
   "metadata": {},
   "outputs": [],
   "source": [
    "def get_customer_orders(inventory):\n",
    "    \n",
    "    customer_orders = {\n",
    "        product for product in inventory \n",
    "        if input(f\"Do you want to buy {product}s? (yes/no): \").strip().lower() == \"yes\"\n",
    "    }\n",
    "    return customer_orders\n"
   ]
  },
  {
   "cell_type": "code",
   "execution_count": 192,
   "id": "c3be4956-9702-4a2a-9fc8-2de3a1205b6b",
   "metadata": {},
   "outputs": [],
   "source": [
    "def customer_order_price(customer_orders):\n",
    "\n",
    "    order_price = {product: int(input(f\"Enter the price of {product}s available: \")) for product in customer_orders}\n",
    "\n",
    "    return order_price\n",
    "    "
   ]
  },
  {
   "cell_type": "code",
   "execution_count": 194,
   "id": "31c82d72-3f9d-4b60-99a6-0ad2454f533e",
   "metadata": {},
   "outputs": [],
   "source": [
    "\"\"\"\n",
    "Modify the update_inventory function to remove the product from the inventory if its quantity becomes zero after fulfilling the customer orders.\n",
    "Use comprehension to filter out the products with a quantity of zero from the inventory.\n",
    "\"\"\"\n",
    "\n",
    "def update_inventory(customer_orders, inventory):\n",
    "\n",
    "    updated_inventory = {\n",
    "        product: max(inventory[product] - 1, 0) if product in customer_orders else stock\n",
    "        for product, stock in inventory.items()\n",
    "    }\n",
    "\n",
    "    updated_inventory = {\n",
    "        product: stock for product, stock in updated_inventory.items() if stock > 0\n",
    "    }\n",
    "    return updated_inventory"
   ]
  },
  {
   "cell_type": "code",
   "execution_count": 196,
   "id": "829319dd-adbd-47df-af77-02804c548007",
   "metadata": {},
   "outputs": [],
   "source": [
    "def calculate_order_statistics(customer_orders, inventory):\n",
    "    \n",
    "    total_products_ordered = len(customer_orders)\n",
    "    \n",
    "    unique_inventory_products = len(inventory)\n",
    "    \n",
    "    percentage = (total_products_ordered / unique_inventory_products) * 100\n",
    "    \n",
    "    return total_products_ordered, percentage"
   ]
  },
  {
   "cell_type": "code",
   "execution_count": 198,
   "id": "8fc6ab93-da79-46e2-b6e8-17791bb885ce",
   "metadata": {},
   "outputs": [],
   "source": [
    "def print_order_statistics(total_products_ordered, percentage):\n",
    "    \n",
    "    print(f\"Total products bought: {total_products_ordered}\")\n",
    "    \n",
    "    print(f\"Percentage of products bought from inventory: {percentage:.2f}%\")"
   ]
  },
  {
   "cell_type": "code",
   "execution_count": 204,
   "id": "48d8714a-41ae-4924-a0f3-9c64b9258d28",
   "metadata": {},
   "outputs": [
    {
     "name": "stdin",
     "output_type": "stream",
     "text": [
      "Enter the quantity of t-shirts available:  10\n",
      "Enter the quantity of mugs available:  10\n",
      "Enter the quantity of hats available:  10\n",
      "Enter the quantity of books available:  10\n",
      "Enter the quantity of keychains available:  10\n"
     ]
    },
    {
     "name": "stdout",
     "output_type": "stream",
     "text": [
      "\n",
      "Inventory initialized!\n",
      "{'t-shirt': 10, 'mug': 10, 'hat': 10, 'book': 10, 'keychain': 10}\n"
     ]
    },
    {
     "name": "stdin",
     "output_type": "stream",
     "text": [
      "Do you want to buy t-shirts? (yes/no):  yes\n",
      "Do you want to buy mugs? (yes/no):  no\n",
      "Do you want to buy hats? (yes/no):  no\n",
      "Do you want to buy books? (yes/no):  no\n",
      "Do you want to buy keychains? (yes/no):  no\n"
     ]
    },
    {
     "name": "stdout",
     "output_type": "stream",
     "text": [
      "\n",
      "Customer orders:\n",
      "{'t-shirt'}\n"
     ]
    },
    {
     "name": "stdin",
     "output_type": "stream",
     "text": [
      "Enter the price of t-shirts available:  100\n"
     ]
    },
    {
     "name": "stdout",
     "output_type": "stream",
     "text": [
      "\n",
      "Customer Order Prices:\n",
      "{'t-shirt': 100}\n",
      "\n",
      "Updated Inventory:\n",
      "{'t-shirt': 9, 'mug': 10, 'hat': 10, 'book': 10, 'keychain': 10}\n",
      "\n",
      "Statistics:\n",
      "Total products bought: 1\n",
      "Percentage of products bought from inventory: 20.00%\n"
     ]
    }
   ],
   "source": [
    "def main():\n",
    "\n",
    " \n",
    "    products = [\"t-shirt\", \"mug\", \"hat\", \"book\", \"keychain\"]\n",
    "    \n",
    "    inventory = initialize_inventory(products)\n",
    "    print(\"\\nInventory initialized!\")\n",
    "    print(inventory)\n",
    "\n",
    "    customer_orders = get_customer_orders(inventory)\n",
    "    print(\"\\nCustomer orders:\")\n",
    "    print(customer_orders)\n",
    "    \n",
    "    order_price = customer_order_price(customer_orders)\n",
    "    print(\"\\nCustomer Order Prices:\")\n",
    "    print(order_price)\n",
    "\n",
    "    new_inventory = update_inventory(customer_orders, inventory)\n",
    "    print(\"\\nUpdated Inventory:\")\n",
    "    print(new_inventory)\n",
    "\n",
    "    total_products_ordered, percentage = calculate_order_statistics(customer_orders, inventory)\n",
    "    print(\"\\nStatistics:\")\n",
    "    print_order_statistics(total_products_ordered, percentage)\n",
    "    \n",
    "main()"
   ]
  },
  {
   "cell_type": "code",
   "execution_count": null,
   "id": "3479385b-5a73-4d1d-8752-f8e44e845e3e",
   "metadata": {},
   "outputs": [],
   "source": []
  }
 ],
 "metadata": {
  "kernelspec": {
   "display_name": "Python 3 (ipykernel)",
   "language": "python",
   "name": "python3"
  },
  "language_info": {
   "codemirror_mode": {
    "name": "ipython",
    "version": 3
   },
   "file_extension": ".py",
   "mimetype": "text/x-python",
   "name": "python",
   "nbconvert_exporter": "python",
   "pygments_lexer": "ipython3",
   "version": "3.12.3"
  }
 },
 "nbformat": 4,
 "nbformat_minor": 5
}
